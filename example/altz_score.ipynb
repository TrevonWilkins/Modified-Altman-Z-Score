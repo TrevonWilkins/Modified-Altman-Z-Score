{
 "cells": [
  {
   "cell_type": "code",
   "execution_count": 8,
   "id": "a6805795-7675-4e3d-8c75-4f59929de5ed",
   "metadata": {},
   "outputs": [],
   "source": [
    "#!/usr/bin/env python3\n",
    "# Modified Altman Z-Score by Trevon Wilkins\n",
    "# coding: utf-8\n",
    "\n",
    "import yfinance as yf\n",
    "from yahoofinancials import YahooFinancials\n",
    "\n",
    "\n",
    "'''\n",
    "This is a modified Altman Z-Score function that substitutes total revenue in place of net sales. Total revenue is used in place of net sales as most organizations do not publicize their net sales. This function works particularly well for defense contracting organizations where discounts, returns, and allowances are not a large part of the business due to the contractual nature of the work, thus the alteration is ideally insignificant enough to provide a well-rounded gauge of probability of bankruptcy when compared to organizations of the same business interest.\n",
    "\n",
    "\"Altman Z-Score = 1.2A + 1.4B + 3.3C + 0.6D + 1.0E\n",
    "\n",
    "Where:\n",
    "\n",
    "A = working capital / total assets\n",
    "B = retained earnings / total assets\n",
    "C = earnings before interest and tax / total assets\n",
    "D = market value of equity / total liabilities\n",
    "E = sales / total assets \"\n",
    "\n",
    "Cite:\n",
    "\n",
    "Kenton, W. (2003, November 18). What is the Altman Z-score? Investopedia. Retrieved April 12, 2022, from https://www.investopedia.com/terms/a/altman.asp#:~:text=The%20formula%20for%20Altman%20Z,*(sales%20%2F%20total%20assets)\n",
    "\n",
    "*With modification E = (total revenue / total assets)\n",
    "\n",
    "How To Use:\n",
    "\n",
    "Step 1: altz_score(\"Enter a Ticker Symbol\") -- > altz_score(\"MSFT\")\n",
    "\n",
    "Output: MSFT modified Altman Z-Score = X.XX\n",
    "\n",
    "'''\n",
    "\n",
    "def altz_score(x):\n",
    "    ticker = yf.Ticker(x)\n",
    "    ticker_financials = ticker.financials\n",
    "    ticker_balance = ticker.balance_sheet\n",
    "    \n",
    "    t_rev = float(ticker_financials.loc[['Total Revenue']].iloc[0][:][0])\n",
    "    ebit = float(ticker_financials.loc[['Ebit']].iloc[0][:][0])\n",
    "    tot_assets= float(ticker_balance.loc[['Total Assets']].iloc[0][:][0])\n",
    "    tot_liab = float(ticker_balance.loc[['Total Liab']].iloc[0][:][0])\n",
    "    ret_earnings = float(ticker_balance.loc[['Retained Earnings']].iloc[0][:][0])\n",
    "    working_cap = float((ticker_balance.loc[['Total Current Assets']].iloc[0][:][0]) - (ticker_balance.loc[['Total Current Liabilities']].iloc[0][:][0]))\n",
    "    market_cap = ticker.info['marketCap']\n",
    "    \n",
    "    A = working_cap / tot_assets\n",
    "    B = ret_earnings / tot_assets\n",
    "    C = ebit / tot_assets\n",
    "    D = market_cap / tot_liab\n",
    "    E = t_rev / tot_assets\n",
    "    altz_score = (1.2*A) + (1.4*B) + (3.3*C) + (0.6*D) + (1.0*E)\n",
    "    print(\"{} modified Altman Z-Score = {}\".format(x,\"{:.2f}\".format(altz_score)))\n"
   ]
  },
  {
   "cell_type": "code",
   "execution_count": 11,
   "id": "16df5b9c-887d-4aa1-a9f2-54762676ad27",
   "metadata": {},
   "outputs": [
    {
     "name": "stdout",
     "output_type": "stream",
     "text": [
      "LDOS modified Altman Z-Score = 2.55\n"
     ]
    }
   ],
   "source": [
    "altz_score(\"LDOS\")"
   ]
  },
  {
   "cell_type": "code",
   "execution_count": null,
   "id": "4911c35e-6058-4d52-a4bd-11d921e70b65",
   "metadata": {},
   "outputs": [],
   "source": []
  }
 ],
 "metadata": {
  "kernelspec": {
   "display_name": "Python 3",
   "language": "python",
   "name": "python3"
  },
  "language_info": {
   "codemirror_mode": {
    "name": "ipython",
    "version": 3
   },
   "file_extension": ".py",
   "mimetype": "text/x-python",
   "name": "python",
   "nbconvert_exporter": "python",
   "pygments_lexer": "ipython3",
   "version": "3.9.2"
  }
 },
 "nbformat": 4,
 "nbformat_minor": 5
}
